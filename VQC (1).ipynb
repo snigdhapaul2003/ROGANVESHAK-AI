{
  "cells": [
    {
      "cell_type": "code",
      "execution_count": null,
      "id": "Z-Vvg_4X3A1v",
      "metadata": {
        "id": "Z-Vvg_4X3A1v"
      },
      "outputs": [],
      "source": [
        "#Install dependencies\n",
        "!pip install qiskit"
      ]
    },
    {
      "cell_type": "code",
      "execution_count": 3,
      "id": "77f72e32-00c7-4f09-80a9-7ab8826ce918",
      "metadata": {
        "id": "77f72e32-00c7-4f09-80a9-7ab8826ce918",
        "tags": []
      },
      "outputs": [],
      "source": [
        "#import dependencies\n",
        "import pandas as pd\n",
        "import numpy as np\n",
        "import matplotlib.pyplot as plt\n",
        "import time"
      ]
    },
    {
      "cell_type": "code",
      "execution_count": 10,
      "id": "aca03455-77e5-4c41-959a-c1ae1f2f8faa",
      "metadata": {
        "id": "aca03455-77e5-4c41-959a-c1ae1f2f8faa",
        "tags": []
      },
      "outputs": [],
      "source": [
        "#read csv\n",
        "df = pd.read_csv(\"/content/image_data_final_quantum (2).csv\")"
      ]
    },
    {
      "cell_type": "code",
      "execution_count": 13,
      "id": "ead66ec8-fa9a-43bb-b1e4-95071264e195",
      "metadata": {
        "id": "ead66ec8-fa9a-43bb-b1e4-95071264e195",
        "tags": []
      },
      "outputs": [],
      "source": [
        "from sklearn.decomposition import PCA\n",
        "\n",
        "# Load the CSV file\n",
        "df = pd.read_csv(\"/content/image_data_final_quantum (2).csv\")\n",
        "d = df\n",
        "X = d.drop(['class'], axis=1)\n",
        "\n",
        "# Apply PCA to extract 10 features\n",
        "pca = PCA(n_components=10)\n",
        "X = pca.fit_transform(X)\n",
        "\n",
        "# Target variable\n",
        "y = d['class']"
      ]
    },
    {
      "cell_type": "code",
      "execution_count": 14,
      "id": "64fa87e4-6ba2-4c35-b865-b2a5e4f3a2ba",
      "metadata": {
        "id": "64fa87e4-6ba2-4c35-b865-b2a5e4f3a2ba",
        "tags": []
      },
      "outputs": [],
      "source": [
        "from sklearn.model_selection import train_test_split\n",
        "from qiskit.utils import algorithm_globals\n",
        "\n",
        "#train test split\n",
        "algorithm_globals.random_seed = 123\n",
        "train_features, test_features, train_labels, test_labels = train_test_split( X, y, train_size=0.7, random_state=algorithm_globals.random_seed)"
      ]
    },
    {
      "cell_type": "code",
      "execution_count": 16,
      "id": "7a83a074-2c97-4439-9e37-3af04014a988",
      "metadata": {
        "id": "7a83a074-2c97-4439-9e37-3af04014a988",
        "tags": []
      },
      "outputs": [],
      "source": [
        "#encode our data as qubits by creating the quantum circuit\n",
        "from qiskit.circuit.library import ZZFeatureMap\n",
        "num_features = train_features.shape[1]\n",
        "feature_map = ZZFeatureMap(feature_dimension=num_features, reps=1)\n",
        "# feature_map.decompose().draw(output='mpl', fold=20, filename='featuremap' )"
      ]
    },
    {
      "cell_type": "code",
      "execution_count": 18,
      "id": "563477cc-cab8-4215-bd00-dd4b18b1985a",
      "metadata": {
        "id": "563477cc-cab8-4215-bd00-dd4b18b1985a",
        "tags": []
      },
      "outputs": [],
      "source": [
        "from qiskit.circuit. library import RealAmplitudes\n",
        "\n",
        "ansatz = RealAmplitudes (num_qubits=num_features, reps=3)\n",
        "ansatz.measure_all()"
      ]
    },
    {
      "cell_type": "code",
      "execution_count": 19,
      "id": "88b55f3d-b835-4f35-8fe9-d8d76d0232ea",
      "metadata": {
        "id": "88b55f3d-b835-4f35-8fe9-d8d76d0232ea",
        "tags": []
      },
      "outputs": [],
      "source": [
        "# combine our feature map with our circuit\n",
        "circuit=feature_map.compose(ansatz)\n",
        "initial_point = np.random.random(ansatz.num_parameters)\n",
        "initial_point"
      ]
    },
    {
      "cell_type": "code",
      "execution_count": 21,
      "id": "85acf849-9625-480f-b32f-c2eb08dcc431",
      "metadata": {
        "id": "85acf849-9625-480f-b32f-c2eb08dcc431",
        "tags": []
      },
      "outputs": [],
      "source": [
        "#Encoding the input features\n",
        "from sklearn.preprocessing import OneHotEncoder\n",
        "encoder = OneHotEncoder()\n",
        "train_labels = train_labels.to_numpy()\n",
        "test_labels = test_labels.to_numpy()\n",
        "train_labels_oh = encoder.fit_transform(train_labels.reshape(-1, 1)).toarray()\n",
        "test_labels_oh = encoder.fit_transform(test_labels.reshape(-1, 1)).toarray()"
      ]
    },
    {
      "cell_type": "code",
      "execution_count": null,
      "id": "88e6fcff-2d9f-491d-8877-26483659369f",
      "metadata": {
        "id": "88e6fcff-2d9f-491d-8877-26483659369f",
        "tags": []
      },
      "outputs": [],
      "source": [
        "#Create a VQC object for the QASM simulator\n",
        "from qiskit import BasicAer, execute\n",
        "from qiskit.algorithms.optimizers import SPSA\n",
        "from qiskit_machine_learning.algorithms.classifiers import VQC\n",
        "vqc = VQC(feature_map=feature_map,ansatz=ansatz,loss='cross_entropy',optimizer=SPSA( ),initial_point=initial_point,quantum_instance=BasicAer.get_backend('qasm_simulator'))"
      ]
    },
    {
      "cell_type": "code",
      "execution_count": null,
      "id": "2b0e90e8-ff33-4a1f-8b17-80500dbad5c0",
      "metadata": {
        "id": "2b0e90e8-ff33-4a1f-8b17-80500dbad5c0",
        "tags": []
      },
      "outputs": [],
      "source": [
        "# Import time module\n",
        "import time\n",
        " # record start time\n",
        "start = time.time()\n",
        "\n",
        "r = vqc.fit(train_features,train_labels_oh)\n",
        "\n",
        "end = time.time()\n",
        "\n",
        "print(\"The time of execution of above program is :\",\n",
        "      (((end-start) * 10**3)/1000)/60, \"mins\")"
      ]
    },
    {
      "cell_type": "code",
      "execution_count": null,
      "id": "3b229a5d-8c34-4b78-b184-6a2830d17d24",
      "metadata": {
        "id": "3b229a5d-8c34-4b78-b184-6a2830d17d24",
        "tags": []
      },
      "outputs": [],
      "source": [
        "#Prediction\n",
        "predicted_labels_test = vqc.predict(test_features)\n",
        "predicted_labels_train = vqc.predict(train_features)"
      ]
    },
    {
      "cell_type": "code",
      "execution_count": null,
      "id": "63d74f3d-fc57-4046-96e5-12274cc253fa",
      "metadata": {
        "id": "63d74f3d-fc57-4046-96e5-12274cc253fa",
        "tags": []
      },
      "outputs": [],
      "source": [
        "from sklearn.metrics import accuracy_score\n",
        "print(f'Quantum VQC (sklearn) test accuracy {accuracy_score(test_labels,predicted_labels_test):}')\n",
        "print(f'Quantum VQC (sklearn) train accuracy {accuracy_score(train_labels,predicted_labels_train):}')"
      ]
    }
  ],
  "metadata": {
    "colab": {
      "provenance": []
    },
    "kernelspec": {
      "display_name": "Qiskit v1.0.1 (ipykernel)",
      "language": "python",
      "name": "python3"
    },
    "language_info": {
      "codemirror_mode": {
        "name": "ipython",
        "version": 3
      },
      "file_extension": ".py",
      "mimetype": "text/x-python",
      "name": "python",
      "nbconvert_exporter": "python",
      "pygments_lexer": "ipython3",
      "version": "3.10.8"
    }
  },
  "nbformat": 4,
  "nbformat_minor": 5
}

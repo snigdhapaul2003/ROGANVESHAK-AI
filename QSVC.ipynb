{
  "cells": [
    {
      "cell_type": "code",
      "execution_count": null,
      "metadata": {
        "id": "1EkiG2X5Q8lx"
      },
      "outputs": [],
      "source": [
        "#Install Dependencies\n",
        "!pip install qiskit"
      ]
    },
    {
      "cell_type": "code",
      "execution_count": null,
      "metadata": {
        "id": "q9YOHHGPRKva"
      },
      "outputs": [],
      "source": [
        "!pip install qiskit_machine_learning"
      ]
    },
    {
      "cell_type": "code",
      "execution_count": null,
      "metadata": {
        "id": "aqZqCGvlQ0N6"
      },
      "outputs": [],
      "source": [
        "#Import Dependencies\n",
        "import matplotlib.pyplot as plt\n",
        "import numpy as np\n",
        "\n",
        "from qiskit import Aer\n",
        "from qiskit.circuit.library import ZZFeatureMap\n",
        "from qiskit.utils import QuantumInstance, algorithm_globals\n",
        "from qiskit_machine_learning.algorithms import QSVC\n",
        "from qiskit_machine_learning.kernels import QuantumKernel\n",
        "#import the noise packages\n",
        "from qiskit.providers.aer.noise import NoiseModel\n",
        "from qiskit.providers.aer.noise import QuantumError, ReadoutError\n",
        "from qiskit.providers.aer.noise import pauli_error\n",
        "from qiskit.providers.aer.noise import depolarizing_error,amplitude_damping_error,phase_damping_error,phase_amplitude_damping_error\n",
        "from qiskit.providers.aer.noise import thermal_relaxation_error\n",
        "seed = 12345\n",
        "algorithm_globals.random_seed = seed\n",
        "\n",
        "import pandas as pd\n",
        "from sklearn.model_selection import train_test_split\n",
        "from sklearn.decomposition import PCA"
      ]
    },
    {
      "cell_type": "code",
      "execution_count": null,
      "metadata": {
        "id": "iUdSMrSn3ZH3"
      },
      "outputs": [],
      "source": [
        "# Load the CSV file\n",
        "df = pd.read_csv(\"/content/drive/MyDrive/image_data_final_quantum (2).csv\")\n",
        "d = df\n",
        "X = d.drop(['class'], axis=1)\n",
        "\n",
        "# Apply PCA to extract 10 features\n",
        "pca = PCA(n_components=10)\n",
        "X = pca.fit_transform(X)\n",
        "\n",
        "# Target variable\n",
        "y = d['class']\n",
        "\n",
        "# Perform train-test split\n",
        "train_features, test_features, train_labels, test_labels = train_test_split(X, y, test_size=0.25, random_state=42)\n"
      ]
    },
    {
      "cell_type": "code",
      "execution_count": null,
      "metadata": {
        "id": "6hmrFjEsSLC9"
      },
      "outputs": [],
      "source": [
        "#Quantum Instance Initialization and Feature Map Conversion\n",
        "customdata_dimension = 10\n",
        "\n",
        "feature_map = ZZFeatureMap(feature_dimension=customdata_dimension, reps=2, entanglement=\"linear\")\n",
        "\n",
        "backend = QuantumInstance(\n",
        "    Aer.get_backend(\"aer_simulator\"), shots=1024, seed_simulator=seed, seed_transpiler=seed)\n",
        "\n",
        "kernel = QuantumKernel(feature_map=feature_map, quantum_instance=backend)"
      ]
    },
    {
      "cell_type": "code",
      "execution_count": null,
      "metadata": {
        "id": "cAgioOXKSOHU"
      },
      "outputs": [],
      "source": [
        "#Initialize QSVC model\n",
        "qsvc = QSVC(quantum_kernel=kernel)"
      ]
    },
    {
      "cell_type": "code",
      "execution_count": null,
      "metadata": {
        "colab": {
          "base_uri": "https://localhost:8080/"
        },
        "id": "_xPr16PnSPJ4",
        "outputId": "27386850-89a9-4e65-ce34-a4e38a47524b"
      },
      "outputs": [
        {
          "name": "stdout",
          "output_type": "stream",
          "text": [
            "The time of execution of above program is : 95.75489753087362 mins\n"
          ]
        }
      ],
      "source": [
        "# Import time module\n",
        "import time\n",
        " # record start time\n",
        "start = time.time()\n",
        "\n",
        "#Fit the model\n",
        "qsvc.fit(train_features, train_labels)\n",
        "\n",
        "end = time.time()\n",
        "\n",
        "print(\"The time of execution of above program is :\",\n",
        "      (((end-start) * 10**3)/1000)/60, \"mins\")"
      ]
    },
    {
      "cell_type": "code",
      "execution_count": null,
      "metadata": {
        "id": "B_B3MahlSRr0"
      },
      "outputs": [],
      "source": [
        "#Model prediction\n",
        "predicted_labels_test = qsvc.predict(test_features)\n",
        "predicted_labels_train = qsvc.predict(train_features)"
      ]
    },
    {
      "cell_type": "code",
      "execution_count": null,
      "metadata": {
        "id": "LOPKcZwxSS_y"
      },
      "outputs": [],
      "source": [
        "#Calculate accuracy\n",
        "from sklearn.metrics import accuracy_score\n",
        "print(f'Quantum QSVC (sklearn) test accuracy {accuracy_score(test_labels,predicted_labels_test):}')\n",
        "print(f'Quantum QSVC (sklearn) train accuracy {accuracy_score(train_labels,predicted_labels_train):}')"
      ]
    },
    {
      "cell_type": "code",
      "execution_count": null,
      "metadata": {
        "id": "59FBpFeW5cta"
      },
      "outputs": [],
      "source": [
        "#Save the model\n",
        "qsvc.save(\"/content/drive/MyDrive/QSVC_MODEL_SAVE\")"
      ]
    }
  ],
  "metadata": {
    "colab": {
      "provenance": []
    },
    "kernelspec": {
      "display_name": "Python 3",
      "name": "python3"
    },
    "language_info": {
      "name": "python"
    }
  },
  "nbformat": 4,
  "nbformat_minor": 0
}

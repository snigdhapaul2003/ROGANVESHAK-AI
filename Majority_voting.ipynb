{
  "cells": [
    {
      "cell_type": "markdown",
      "metadata": {
        "id": "pC2qrezO-yoO"
      },
      "source": [
        "**Feature Extraction**"
      ]
    },
    {
      "cell_type": "code",
      "execution_count": null,
      "metadata": {
        "id": "K9jataMSP9ZM"
      },
      "outputs": [],
      "source": [
        "#Install Dependencies\n",
        "!pip install ultralytics\n",
        "!pip install tensorflow"
      ]
    },
    {
      "cell_type": "code",
      "execution_count": null,
      "metadata": {
        "id": "3l2o4tGQKgzL"
      },
      "outputs": [],
      "source": [
        "#Mount Drive\n",
        "from google.colab import drive\n",
        "drive.mount('/content/drive')"
      ]
    },
    {
      "cell_type": "code",
      "execution_count": null,
      "metadata": {
        "id": "hJBjec6b9jL-"
      },
      "outputs": [],
      "source": [
        "#Import Dependencies\n",
        "import tensorflow\n",
        "from keras.models import Model\n",
        "from tensorflow.keras.applications import EfficientNetV2S\n",
        "from tensorflow.keras.preprocessing import image\n",
        "from tensorflow.keras.applications.efficientnet import preprocess_input\n",
        "import os\n",
        "from IPython import display\n",
        "display.clear_output()\n",
        "import ultralytics\n",
        "ultralytics.checks()\n",
        "from ultralytics import YOLO\n",
        "from IPython.display import display, Image\n",
        "from tensorflow.keras.models import Model, load_model\n",
        "#Load YOLO Model\n",
        "model = load_model('/content/CNN_MODEL_H5 (1).h5')\n",
        "model1 = YOLO('/content/best_majo.pt')\n",
        "import cv2\n",
        "import pandas as pd\n",
        "import numpy as np"
      ]
    },
    {
      "cell_type": "code",
      "execution_count": null,
      "metadata": {
        "id": "10a4Dk9E4VJK"
      },
      "outputs": [],
      "source": [
        "#Defination of process image function\n",
        "def process_image(image_path):\n",
        "    image = cv2.imread(image_path)\n",
        "    resized_image = cv2.resize(image, (28, 28))\n",
        "    b, g, r = cv2.split(resized_image)\n",
        "    return r, g, b\n",
        "image_path = '/content/ISIC_0026163.jpg'\n",
        "r, g, b = process_image(image_path)\n",
        "pixel_values = list(r.flatten()) + list(g.flatten()) + list(b.flatten())\n",
        "a = np.array(pixel_values).reshape(-1, 28, 28, 3)\n",
        "b=model.predict(a)\n",
        "c = np.argmax(b , axis=1)\n",
        "k0 = b[0]\n",
        "i = cv2.imread(image_path)\n",
        "results = model1(i)\n",
        "print(results[0].names[results[0].probs.top1])\n",
        "x=results[0].probs.top5\n",
        "y=results[0].probs.top5conf.tolist()\n",
        "k=[]\n",
        "for i in range(8):\n",
        "    if i in x:\n",
        "        y_index = x.index(i)\n",
        "        y_value = y[y_index]\n",
        "        k.append(y_value)\n",
        "    else:\n",
        "        k.append(0)\n",
        "k1 = []\n",
        "k1.append(k[0])\n",
        "k1.append(k[1])\n",
        "k1.append(k[2])\n",
        "k1.append(k[3])\n",
        "k1.append(k[6])\n",
        "k1.append(k[7])\n",
        "k1.append(k[4])\n",
        "k1.append(k[5])\n",
        "total_conf = k0+k1\n",
        "print(k0)\n",
        "print(k1)\n",
        "print(total_conf)\n",
        "total_conf = list(total_conf)\n",
        "total_conf.index(max(total_conf))"
      ]
    },
    {
      "cell_type": "code",
      "execution_count": null,
      "metadata": {
        "id": "eODUAk6GkvkJ"
      },
      "outputs": [],
      "source": [
        "#Corrupted files deletion\n",
        "from PIL import Image\n",
        "import os\n",
        "\n",
        "def check_and_delete_corrupted_images(directory):\n",
        "    corrupted_files = []\n",
        "    for root, dirs, files in os.walk(directory):\n",
        "        for filename in files:\n",
        "            filepath = os.path.join(root, filename)\n",
        "            try:\n",
        "                img = Image.open(filepath)\n",
        "                img.verify()  # Check if the file is corrupted\n",
        "                img.close()\n",
        "            except (IOError, SyntaxError) as e:\n",
        "                corrupted_files.append(filepath)\n",
        "                print(f\"Corrupted file: {filepath} - Reason: {e}\")\n",
        "                # Delete the corrupted file\n",
        "                os.remove(filepath)\n",
        "                print(f\"Corrupted file {filepath} has been deleted.\")\n",
        "    if not corrupted_files:\n",
        "        print(\"All image files are valid and uncorrupted.\")\n",
        "    else:\n",
        "        print(\"Corrupted files found:\", corrupted_files)\n",
        "\n",
        "# Replace 'path/to/dataset' with the path to your dataset directory\n",
        "dataset_directory = '/content/Final_dataset_elixir/val'\n",
        "check_and_delete_corrupted_images(dataset_directory)"
      ]
    },
    {
      "cell_type": "code",
      "execution_count": null,
      "metadata": {
        "id": "yg4fB6Lei_PB"
      },
      "outputs": [],
      "source": [
        "#Image Data Ceation\n",
        "import os\n",
        "import cv2\n",
        "import pandas as pd\n",
        "\n",
        "# Function to resize and extract pixel values\n",
        "def process_image(image_path):\n",
        "    image = cv2.imread(image_path)\n",
        "    print(image_path)\n",
        "    resized_image = cv2.resize(image, (28, 28))\n",
        "    # Extract R, G, B channels\n",
        "    b, g, r = cv2.split(resized_image)\n",
        "    return r, g, b\n",
        "\n",
        "# Folder containing the subfolders with images\n",
        "root_folder = '/content/Final_dataset_elixir/test'\n",
        "\n",
        "# Initialize lists to store data\n",
        "data = []\n",
        "image_names = []\n",
        "folder_names = []\n",
        "\n",
        "# Loop through each subfolder\n",
        "for folder_name in os.listdir(root_folder):\n",
        "    folder_path = os.path.join(root_folder, folder_name)\n",
        "\n",
        "    # Loop through images in each subfolder\n",
        "    for image_name in os.listdir(folder_path):\n",
        "        image_path = os.path.join(folder_path, image_name)\n",
        "\n",
        "        # Process the image and get pixel values\n",
        "        r, g, b = process_image(image_path)\n",
        "\n",
        "        # Flatten pixel values and add to data list\n",
        "        pixel_values = list(r.flatten()) + list(g.flatten()) + list(b.flatten())\n",
        "        data.append(pixel_values)\n",
        "\n",
        "        # Add image name and folder name\n",
        "        image_names.append(image_name)\n",
        "        folder_names.append(folder_name)\n",
        "\n",
        "# Create a DataFrame from the collected data\n",
        "df = pd.DataFrame(data, columns=[f\"R_{i}\" for i in range(28*28)] +\n",
        "                                 [f\"G_{i}\" for i in range(28*28)] +\n",
        "                                 [f\"B_{i}\" for i in range(28*28)])\n",
        "df['image_name'] = image_names\n",
        "df['class'] = folder_names\n",
        "\n",
        "# Save the DataFrame to a CSV file\n",
        "df.to_csv('image_data.csv', index=False)"
      ]
    },
    {
      "cell_type": "code",
      "execution_count": null,
      "metadata": {
        "id": "zAnNB5FHtL4b"
      },
      "outputs": [],
      "source": [
        "#Unzip\n",
        "!unzip '/content/drive/MyDrive/Final_dataset_elixir.zip'"
      ]
    },
    {
      "cell_type": "code",
      "execution_count": null,
      "metadata": {
        "colab": {
          "base_uri": "https://localhost:8080/"
        },
        "id": "ghttw-8OszM4",
        "outputId": "246074d6-5586-4162-cdfd-58426657f143"
      },
      "outputs": [
        {
          "output_type": "stream",
          "name": "stdout",
          "text": [
            "CSV file created successfully!\n"
          ]
        }
      ],
      "source": [
        "#CSV file created\n",
        "import os\n",
        "import csv\n",
        "\n",
        "def create_csv_from_folder(root_folder, csv_file):\n",
        "    with open(csv_file, mode='w', newline='') as file:\n",
        "        writer = csv.writer(file)\n",
        "        writer.writerow(['Image Name', 'Label'])  # Write header row\n",
        "\n",
        "        for subdir, dirs, files in os.walk(root_folder):\n",
        "            for file in files:\n",
        "                if file.endswith('.jpg') or file.endswith('.png'):  # Adjust file extensions as needed\n",
        "                    image_path = os.path.join(subdir, file)\n",
        "                    label = os.path.basename(subdir)\n",
        "                    writer.writerow([file, label])\n",
        "\n",
        "# Path to the root folder\n",
        "root_folder_path = '/content/Final_dataset_elixir/val'\n",
        "\n",
        "# Path to the output CSV file\n",
        "csv_file_path = '/content/ground_truth.csv'\n",
        "\n",
        "create_csv_from_folder(root_folder_path, csv_file_path)\n",
        "print(\"CSV file created successfully!\")\n"
      ]
    },
    {
      "cell_type": "code",
      "execution_count": null,
      "metadata": {
        "id": "zaYHkR3V-Puc"
      },
      "outputs": [],
      "source": [
        "process_images_and_get_confidences(image_path, model, model1, num_augmented=5)"
      ]
    },
    {
      "cell_type": "code",
      "execution_count": null,
      "metadata": {
        "id": "4SgPlQ1gPYZj"
      },
      "outputs": [],
      "source": [
        "import os\n",
        "\n",
        "# Function to traverse through folders, read image paths, and create a pandas DataFrame\n",
        "def process_folders(root_folder):\n",
        "    data = []\n",
        "    for root, dirs, files in os.walk(root_folder):\n",
        "        for file in files:\n",
        "            if file.endswith(('.jpg', '.jpeg', '.png', '.bmp')):  # Add more image extensions if needed\n",
        "                image_path = os.path.join(root, file)\n",
        "                print(image_path)\n",
        "                print(\"Dir:\",os.path.basename(os.path.dirname(image_path)))\n",
        "                total_conf_list, max_conf_index = process_images_and_get_confidences(image_path, model, model1)\n",
        "                data.append({'Image Name': image_path, 'Dir':os.path.basename(os.path.dirname(image_path)),  'Label': label_mapping_cnn[max_conf_index]})\n",
        "    return pd.DataFrame(data)\n",
        "\n",
        "# Example usage:\n",
        "root_folder_path = \"/content/Final_dataset_elixir/val\"\n",
        "output_csv_path = \"output.csv\"\n",
        "\n",
        "# Process folders and create pandas DataFrame\n",
        "df = process_folders(root_folder_path)\n",
        "\n",
        "# Write DataFrame to CSV\n",
        "df.to_csv(output_csv_path, index=False)\n"
      ]
    },
    {
      "cell_type": "code",
      "source": [
        "import pandas as pd\n",
        "\n",
        "def check_and_append(csv_file):\n",
        "    mismatched_paths = []\n",
        "    # Read the CSV file into a DataFrame\n",
        "    df = pd.read_csv(csv_file)\n",
        "\n",
        "    # Iterate through each row in the DataFrame\n",
        "    for index, row in df.iterrows():\n",
        "        # Check if the values in 'dir' and 'Labels' columns don't match\n",
        "        if row['Dir'] != row['Label']:\n",
        "            # Append the value of the 'image path' column to the list\n",
        "            mismatched_paths.append(row['Image Name'])\n",
        "\n",
        "    return mismatched_paths\n",
        "\n",
        "# Example usage:\n",
        "csv_file = '/content/output.csv'  # Provide the path to your CSV file\n",
        "mismatched_paths = check_and_append(csv_file)\n",
        "print(\"Mismatched paths:\", mismatched_paths)"
      ],
      "metadata": {
        "colab": {
          "base_uri": "https://localhost:8080/"
        },
        "id": "Qa1Wqj2y-U-Y",
        "outputId": "b928a31f-62aa-4661-c3c2-35f7ac8fe6e3"
      },
      "execution_count": null,
      "outputs": [
        {
          "output_type": "stream",
          "name": "stdout",
          "text": [
            "Mismatched paths: ['/content/Final_dataset_elixir/val/vasc/ISIC_0031346.jpg', '/content/Final_dataset_elixir/val/vasc/ISIC_0032692.jpg', '/content/Final_dataset_elixir/val/vasc/ISIC_0031955.jpg', '/content/Final_dataset_elixir/val/bkl/ISIC_0028503.jpg', '/content/Final_dataset_elixir/val/bkl/ISIC_0032124.jpg', '/content/Final_dataset_elixir/val/bkl/ISIC_0060361.jpg', '/content/Final_dataset_elixir/val/bkl/ISIC_0024426.jpg', '/content/Final_dataset_elixir/val/bkl/ISIC_0033913.jpg', '/content/Final_dataset_elixir/val/bkl/ISIC_0060217.jpg', '/content/Final_dataset_elixir/val/bkl/ISIC_0029880.jpg', '/content/Final_dataset_elixir/val/bkl/ISIC_0033156.jpg', '/content/Final_dataset_elixir/val/bkl/ISIC_0031897.jpg', '/content/Final_dataset_elixir/val/bkl/ISIC_0029213.jpg', '/content/Final_dataset_elixir/val/bkl/ISIC_0029161.jpg', '/content/Final_dataset_elixir/val/bkl/ISIC_0056622.jpg', '/content/Final_dataset_elixir/val/bkl/ISIC_0032382.jpg', '/content/Final_dataset_elixir/val/bkl/ISIC_0025781.jpg', '/content/Final_dataset_elixir/val/df/ISIC_0033626.jpg', '/content/Final_dataset_elixir/val/df/ISIC_0031002.jpg', '/content/Final_dataset_elixir/val/mel/ISIC_0032044.jpg', '/content/Final_dataset_elixir/val/mel/ISIC_0028764.jpg', '/content/Final_dataset_elixir/val/mel/ISIC_0033141.jpg', '/content/Final_dataset_elixir/val/mel/ISIC_0032844.jpg', '/content/Final_dataset_elixir/val/mel/ISIC_0025268.jpg', '/content/Final_dataset_elixir/val/mel/ISIC_0031186.jpg', '/content/Final_dataset_elixir/val/mel/ISIC_0032968.jpg', '/content/Final_dataset_elixir/val/mel/ISIC_0033272.jpg', '/content/Final_dataset_elixir/val/mel/ISIC_0034262.jpg', '/content/Final_dataset_elixir/val/mel/ISIC_0055236.jpg', '/content/Final_dataset_elixir/val/mel/ISIC_0024732.jpg', '/content/Final_dataset_elixir/val/mel/ISIC_0034048.jpg', '/content/Final_dataset_elixir/val/mel/ISIC_0032879.jpg', '/content/Final_dataset_elixir/val/mel/ISIC_0030754.jpg', '/content/Final_dataset_elixir/val/mel/ISIC_0058176.jpg', '/content/Final_dataset_elixir/val/mel/ISIC_0029512.jpg', '/content/Final_dataset_elixir/val/mel/ISIC_0029819.jpg', '/content/Final_dataset_elixir/val/mel/ISIC_0031915.jpg', '/content/Final_dataset_elixir/val/mel/ISIC_0028156.jpg', '/content/Final_dataset_elixir/val/mel/ISIC_0030970.jpg', '/content/Final_dataset_elixir/val/mel/ISIC_0033325.jpg', '/content/Final_dataset_elixir/val/mel/ISIC_0024958.jpg', '/content/Final_dataset_elixir/val/mel/ISIC_0055546.jpg', '/content/Final_dataset_elixir/val/mel/ISIC_0024333.jpg', '/content/Final_dataset_elixir/val/mel/ISIC_0032466.jpg', '/content/Final_dataset_elixir/val/bcc/ISIC_0057010.jpg', '/content/Final_dataset_elixir/val/bcc/ISIC_0027120.jpg', '/content/Final_dataset_elixir/val/bcc/ISIC_0055958.jpg', '/content/Final_dataset_elixir/val/bcc/ISIC_0055303.jpg', '/content/Final_dataset_elixir/val/bcc/ISIC_0025601.jpg', '/content/Final_dataset_elixir/val/bcc/ISIC_0054524.jpg', '/content/Final_dataset_elixir/val/bcc/ISIC_0029917.jpg', '/content/Final_dataset_elixir/val/bcc/ISIC_0031824.jpg', '/content/Final_dataset_elixir/val/bcc/ISIC_0055529.jpg', '/content/Final_dataset_elixir/val/bcc/ISIC_0026343.jpg', '/content/Final_dataset_elixir/val/bcc/ISIC_0054344.jpg', '/content/Final_dataset_elixir/val/bcc/ISIC_0055206.jpg', '/content/Final_dataset_elixir/val/bcc/ISIC_0054619.jpg', '/content/Final_dataset_elixir/val/bcc/ISIC_0055836.jpg', '/content/Final_dataset_elixir/val/nv/ISIC_0033224.jpg', '/content/Final_dataset_elixir/val/nv/ISIC_0029169.jpg', '/content/Final_dataset_elixir/val/nv/ISIC_0027466.jpg', '/content/Final_dataset_elixir/val/nv/ISIC_0024344.jpg', '/content/Final_dataset_elixir/val/nv/ISIC_0026544.jpg', '/content/Final_dataset_elixir/val/nv/ISIC_0025742.jpg', '/content/Final_dataset_elixir/val/nv/ISIC_0027907.jpg', '/content/Final_dataset_elixir/val/nv/ISIC_0032378.jpg', '/content/Final_dataset_elixir/val/nv/ISIC_0027045.jpg', '/content/Final_dataset_elixir/val/nv/ISIC_0028600.jpg', '/content/Final_dataset_elixir/val/nv/ISIC_0033008.jpg', '/content/Final_dataset_elixir/val/nv/ISIC_0026037.jpg', '/content/Final_dataset_elixir/val/nv/ISIC_0025633.jpg', '/content/Final_dataset_elixir/val/nv/ISIC_0033015.jpg', '/content/Final_dataset_elixir/val/nv/ISIC_0027569.jpg', '/content/Final_dataset_elixir/val/nv/ISIC_0028170.jpg', '/content/Final_dataset_elixir/val/nv/ISIC_0034229.jpg', '/content/Final_dataset_elixir/val/nv/ISIC_0025257.jpg', '/content/Final_dataset_elixir/val/akiec/ISIC_0067150.jpg', '/content/Final_dataset_elixir/val/akiec/ISIC_0063588.jpg', '/content/Final_dataset_elixir/val/akiec/ISIC_0055273.jpg', '/content/Final_dataset_elixir/val/akiec/ISIC_0068232.jpg', '/content/Final_dataset_elixir/val/akiec/ISIC_0058494.jpg', '/content/Final_dataset_elixir/val/akiec/ISIC_0028314.jpg', '/content/Final_dataset_elixir/val/akiec/ISIC_0066391.jpg', '/content/Final_dataset_elixir/val/akiec/ISIC_0032329.jpg', '/content/Final_dataset_elixir/val/akiec/ISIC_0058884.jpg']\n"
          ]
        }
      ]
    },
    {
      "cell_type": "code",
      "source": [
        "len(mismatched_paths)"
      ],
      "metadata": {
        "colab": {
          "base_uri": "https://localhost:8080/"
        },
        "id": "owHdE33Y_TDj",
        "outputId": "bf790ba4-8231-452d-b7cf-1e243451f895"
      },
      "execution_count": null,
      "outputs": [
        {
          "output_type": "execute_result",
          "data": {
            "text/plain": [
              "85"
            ]
          },
          "metadata": {},
          "execution_count": 18
        }
      ]
    },
    {
      "cell_type": "code",
      "source": [
        "ls=['/content/Final_dataset_elixir/val/bcc/ISIC_0056205.jpg', '/content/Final_dataset_elixir/val/bcc/ISIC_0053599.jpg', '/content/Final_dataset_elixir/val/bcc/ISIC_0054436.jpg', '/content/Final_dataset_elixir/val/bcc/ISIC_0031762.jpg', '/content/Final_dataset_elixir/val/bcc/ISIC_0053649.jpg', '/content/Final_dataset_elixir/val/bcc/ISIC_0056206.jpg', '/content/Final_dataset_elixir/val/bcc/ISIC_0054993.jpg', '/content/Final_dataset_elixir/val/bcc/ISIC_0054370.jpg', '/content/Final_dataset_elixir/val/bcc/ISIC_0057090.jpg', '/content/Final_dataset_elixir/val/bcc/ISIC_0025600.jpg', '/content/Final_dataset_elixir/val/bcc/ISIC_0031236.jpg', '/content/Final_dataset_elixir/val/bcc/ISIC_0034119.jpg', '/content/Final_dataset_elixir/val/bcc/ISIC_0029745.jpg', '/content/Final_dataset_elixir/val/bcc/ISIC_0056810.jpg', '/content/Final_dataset_elixir/val/bcc/ISIC_0030644.jpg', '/content/Final_dataset_elixir/val/bcc/ISIC_0057308.jpg', '/content/Final_dataset_elixir/val/bcc/ISIC_0031527.jpg', '/content/Final_dataset_elixir/val/bcc/ISIC_0024332.jpg', '/content/Final_dataset_elixir/val/bcc/ISIC_0055274.jpg', '/content/Final_dataset_elixir/val/bcc/ISIC_0053928.jpg', '/content/Final_dataset_elixir/val/bcc/ISIC_0057474.jpg', '/content/Final_dataset_elixir/val/bcc/ISIC_0054299.jpg', '/content/Final_dataset_elixir/val/bcc/ISIC_0029515.jpg', '/content/Final_dataset_elixir/val/bcc/ISIC_0032061.jpg', '/content/Final_dataset_elixir/val/bcc/ISIC_0055539.jpg', '/content/Final_dataset_elixir/val/bcc/ISIC_0057915.jpg', '/content/Final_dataset_elixir/val/bcc/ISIC_0054820.jpg', '/content/Final_dataset_elixir/val/bcc/ISIC_0054477.jpg', '/content/Final_dataset_elixir/val/bcc/ISIC_0024431.jpg', '/content/Final_dataset_elixir/val/bcc/ISIC_0054202.jpg', '/content/Final_dataset_elixir/val/bcc/ISIC_0031442.jpg', '/content/Final_dataset_elixir/val/bcc/ISIC_0057266.jpg', '/content/Final_dataset_elixir/val/bcc/ISIC_0054722.jpg', '/content/Final_dataset_elixir/val/bcc/ISIC_0056297.jpg', '/content/Final_dataset_elixir/val/bcc/ISIC_0028168.jpg', '/content/Final_dataset_elixir/val/bcc/ISIC_0054413.jpg', '/content/Final_dataset_elixir/val/bcc/ISIC_0055806.jpg', '/content/Final_dataset_elixir/val/bcc/ISIC_0055890.jpg', '/content/Final_dataset_elixir/val/bcc/ISIC_0055758.jpg', '/content/Final_dataset_elixir/val/bcc/ISIC_0031597.jpg', '/content/Final_dataset_elixir/val/bcc/ISIC_0026056.jpg', '/content/Final_dataset_elixir/val/bcc/ISIC_0028653.jpg', '/content/Final_dataset_elixir/val/nv/ISIC_0024604.jpg', '/content/Final_dataset_elixir/val/nv/ISIC_0024519.jpg', '/content/Final_dataset_elixir/val/nv/ISIC_0033775.jpg', '/content/Final_dataset_elixir/val/nv/ISIC_0032548.jpg', '/content/Final_dataset_elixir/val/nv/ISIC_0024480.jpg', '/content/Final_dataset_elixir/val/nv/ISIC_0028222.jpg', '/content/Final_dataset_elixir/val/nv/ISIC_0032579.jpg', '/content/Final_dataset_elixir/val/nv/ISIC_0031483.jpg', '/content/Final_dataset_elixir/val/nv/ISIC_0032707.jpg', '/content/Final_dataset_elixir/val/nv/ISIC_0028447.jpg', '/content/Final_dataset_elixir/val/nv/ISIC_0026340.jpg', '/content/Final_dataset_elixir/val/nv/ISIC_0031363.jpg', '/content/Final_dataset_elixir/val/nv/ISIC_0034044.jpg', '/content/Final_dataset_elixir/val/nv/ISIC_0032555.jpg', '/content/Final_dataset_elixir/val/nv/ISIC_0034231.jpg', '/content/Final_dataset_elixir/val/nv/ISIC_0033788.jpg', '/content/Final_dataset_elixir/val/nv/ISIC_0027492.jpg', '/content/Final_dataset_elixir/val/nv/ISIC_0027077.jpg', '/content/Final_dataset_elixir/val/nv/ISIC_0032519.jpg', '/content/Final_dataset_elixir/val/nv/ISIC_0029679.jpg', '/content/Final_dataset_elixir/val/nv/ISIC_0034027.jpg', '/content/Final_dataset_elixir/val/nv/ISIC_0031462.jpg', '/content/Final_dataset_elixir/val/nv/ISIC_0024340.jpg', '/content/Final_dataset_elixir/val/nv/ISIC_0032920.jpg', '/content/Final_dataset_elixir/val/nv/ISIC_0032831.jpg', '/content/Final_dataset_elixir/val/nv/ISIC_0027642.jpg', '/content/Final_dataset_elixir/val/nv/ISIC_0029197.jpg', '/content/Final_dataset_elixir/val/nv/ISIC_0032703.jpg', '/content/Final_dataset_elixir/val/nv/ISIC_0029926.jpg', '/content/Final_dataset_elixir/val/nv/ISIC_0025943.jpg', '/content/Final_dataset_elixir/val/nv/ISIC_0025681.jpg', '/content/Final_dataset_elixir/val/nv/ISIC_0032667.jpg', '/content/Final_dataset_elixir/val/nv/ISIC_0034281.jpg', '/content/Final_dataset_elixir/val/nv/ISIC_0030666.jpg', '/content/Final_dataset_elixir/val/nv/ISIC_0025228.jpg', '/content/Final_dataset_elixir/val/nv/ISIC_0025938.jpg', '/content/Final_dataset_elixir/val/nv/ISIC_0034272.jpg', '/content/Final_dataset_elixir/val/nv/ISIC_0027147.jpg', '/content/Final_dataset_elixir/val/nv/ISIC_0027237.jpg', '/content/Final_dataset_elixir/val/nv/ISIC_0032191.jpg', '/content/Final_dataset_elixir/val/nv/ISIC_0032905.jpg', '/content/Final_dataset_elixir/val/nv/ISIC_0032470.jpg', '/content/Final_dataset_elixir/val/nv/ISIC_0034129.jpg', '/content/Final_dataset_elixir/val/mel/ISIC_0032095.jpg', '/content/Final_dataset_elixir/val/mel/ISIC_0025235.jpg', '/content/Final_dataset_elixir/val/mel/ISIC_0033603.jpg', '/content/Final_dataset_elixir/val/mel/ISIC_0057845.jpg', '/content/Final_dataset_elixir/val/mel/ISIC_0026558.jpg', '/content/Final_dataset_elixir/val/mel/ISIC_0032903.jpg', '/content/Final_dataset_elixir/val/mel/ISIC_0026996.jpg', '/content/Final_dataset_elixir/val/mel/ISIC_0034170.jpg', '/content/Final_dataset_elixir/val/mel/ISIC_0033893.jpg', '/content/Final_dataset_elixir/val/mel/ISIC_0032870.jpg', '/content/Final_dataset_elixir/val/mel/ISIC_0026963.jpg', '/content/Final_dataset_elixir/val/mel/ISIC_0033562.jpg', '/content/Final_dataset_elixir/val/mel/ISIC_0058298.jpg', '/content/Final_dataset_elixir/val/mel/ISIC_0000518.jpg', '/content/Final_dataset_elixir/val/mel/ISIC_0025303.jpg', '/content/Final_dataset_elixir/val/mel/ISIC_0054284.jpg', '/content/Final_dataset_elixir/val/mel/ISIC_0057417.jpg', '/content/Final_dataset_elixir/val/mel/ISIC_0026268.jpg', '/content/Final_dataset_elixir/val/mel/ISIC_0058135.jpg', '/content/Final_dataset_elixir/val/mel/ISIC_0025751.jpg', '/content/Final_dataset_elixir/val/mel/ISIC_0030818.jpg', '/content/Final_dataset_elixir/val/mel/ISIC_0028582.jpg', '/content/Final_dataset_elixir/val/mel/ISIC_0028215.jpg', '/content/Final_dataset_elixir/val/mel/ISIC_0024898.jpg', '/content/Final_dataset_elixir/val/mel/ISIC_0033820.jpg', '/content/Final_dataset_elixir/val/mel/ISIC_0033424.jpg', '/content/Final_dataset_elixir/val/mel/ISIC_0032653.jpg', '/content/Final_dataset_elixir/val/mel/ISIC_0033368.jpg', '/content/Final_dataset_elixir/val/mel/ISIC_0053492.jpg', '/content/Final_dataset_elixir/val/mel/ISIC_0056799.jpg', '/content/Final_dataset_elixir/val/mel/ISIC_0057545.jpg', '/content/Final_dataset_elixir/val/mel/ISIC_0000162.jpg', '/content/Final_dataset_elixir/val/mel/ISIC_0000553.jpg', '/content/Final_dataset_elixir/val/mel/ISIC_0053740.jpg', '/content/Final_dataset_elixir/val/mel/ISIC_0034294.jpg', '/content/Final_dataset_elixir/val/mel/ISIC_0054465.jpg', '/content/Final_dataset_elixir/val/mel/ISIC_0029209.jpg', '/content/Final_dataset_elixir/val/mel/ISIC_0033415.jpg', '/content/Final_dataset_elixir/val/mel/ISIC_0000516.jpg', '/content/Final_dataset_elixir/val/mel/ISIC_0028898.jpg', '/content/Final_dataset_elixir/val/mel/ISIC_0033317.jpg', '/content/Final_dataset_elixir/val/mel/ISIC_0027663.jpg', '/content/Final_dataset_elixir/val/mel/ISIC_0032960.jpg', '/content/Final_dataset_elixir/val/mel/ISIC_0033180.jpg', '/content/Final_dataset_elixir/val/mel/ISIC_0034050.jpg', '/content/Final_dataset_elixir/val/mel/ISIC_0026770.jpg', '/content/Final_dataset_elixir/val/mel/ISIC_0032988.jpg', '/content/Final_dataset_elixir/val/mel/ISIC_0032722.jpg', '/content/Final_dataset_elixir/val/mel/ISIC_0032070.jpg', '/content/Final_dataset_elixir/val/mel/ISIC_0033081.jpg', '/content/Final_dataset_elixir/val/mel/ISIC_0033175.jpg', '/content/Final_dataset_elixir/val/mel/ISIC_0024647.jpg', '/content/Final_dataset_elixir/val/mel/ISIC_0034068.jpg', '/content/Final_dataset_elixir/val/mel/ISIC_0053839.jpg', '/content/Final_dataset_elixir/val/mel/ISIC_0034012.jpg', '/content/Final_dataset_elixir/val/mel/ISIC_0032187.jpg', '/content/Final_dataset_elixir/val/mel/ISIC_0031741.jpg', '/content/Final_dataset_elixir/val/mel/ISIC_0000139.jpg', '/content/Final_dataset_elixir/val/mel/ISIC_0025035.jpg', '/content/Final_dataset_elixir/val/mel/ISIC_0026266.jpg', '/content/Final_dataset_elixir/val/mel/ISIC_0055859.jpg', '/content/Final_dataset_elixir/val/mel/ISIC_0028460.jpg', '/content/Final_dataset_elixir/val/mel/ISIC_0028065.jpg', '/content/Final_dataset_elixir/val/mel/ISIC_0033120.jpg', '/content/Final_dataset_elixir/val/mel/ISIC_0055665.jpg', '/content/Final_dataset_elixir/val/mel/ISIC_0032149.jpg', '/content/Final_dataset_elixir/val/mel/ISIC_0027387.jpg', '/content/Final_dataset_elixir/val/mel/ISIC_0033594.jpg', '/content/Final_dataset_elixir/val/mel/ISIC_0028227.jpg', '/content/Final_dataset_elixir/val/mel/ISIC_0033387.jpg', '/content/Final_dataset_elixir/val/mel/ISIC_0054302.jpg', '/content/Final_dataset_elixir/val/mel/ISIC_0028285.jpg', '/content/Final_dataset_elixir/val/mel/ISIC_0030047.jpg', '/content/Final_dataset_elixir/val/mel/ISIC_0032396.jpg', '/content/Final_dataset_elixir/val/mel/ISIC_0055720.jpg', '/content/Final_dataset_elixir/val/mel/ISIC_0001151.jpg', '/content/Final_dataset_elixir/val/mel/ISIC_0033017.jpg', '/content/Final_dataset_elixir/val/mel/ISIC_0053981.jpg', '/content/Final_dataset_elixir/val/mel/ISIC_0026774.jpg', '/content/Final_dataset_elixir/val/mel/ISIC_0057870.jpg', '/content/Final_dataset_elixir/val/mel/ISIC_0055742.jpg', '/content/Final_dataset_elixir/val/mel/ISIC_0034064.jpg', '/content/Final_dataset_elixir/val/mel/ISIC_0025744.jpg', '/content/Final_dataset_elixir/val/mel/ISIC_0028481.jpg', '/content/Final_dataset_elixir/val/mel/ISIC_0053473.jpg', '/content/Final_dataset_elixir/val/mel/ISIC_0001157.jpg', '/content/Final_dataset_elixir/val/mel/ISIC_0053796.jpg', '/content/Final_dataset_elixir/val/mel/ISIC_0054062.jpg', '/content/Final_dataset_elixir/val/mel/ISIC_0027260.jpg', '/content/Final_dataset_elixir/val/mel/ISIC_0054520.jpg', '/content/Final_dataset_elixir/val/mel/ISIC_0032982.jpg', '/content/Final_dataset_elixir/val/akiec/ISIC_0062586.jpg', '/content/Final_dataset_elixir/val/akiec/ISIC_0026549.jpg', '/content/Final_dataset_elixir/val/akiec/ISIC_0026848.jpg', '/content/Final_dataset_elixir/val/akiec/ISIC_0029067.jpg', '/content/Final_dataset_elixir/val/akiec/ISIC_0053892.jpg', '/content/Final_dataset_elixir/val/akiec/ISIC_0066056.jpg', '/content/Final_dataset_elixir/val/akiec/ISIC_0029279.jpg', '/content/Final_dataset_elixir/val/akiec/ISIC_0055977.jpg', '/content/Final_dataset_elixir/val/akiec/ISIC_0060230.jpg', '/content/Final_dataset_elixir/val/akiec/ISIC_0067728.jpg', '/content/Final_dataset_elixir/val/akiec/ISIC_0029715.jpg', '/content/Final_dataset_elixir/val/akiec/ISIC_0029141.jpg', '/content/Final_dataset_elixir/val/akiec/ISIC_0058653.jpg', '/content/Final_dataset_elixir/val/akiec/ISIC_0027303.jpg', '/content/Final_dataset_elixir/val/akiec/ISIC_0063320.jpg', '/content/Final_dataset_elixir/val/akiec/ISIC_0026319.jpg', '/content/Final_dataset_elixir/val/akiec/ISIC_0063573.jpg', '/content/Final_dataset_elixir/val/akiec/ISIC_0065495.jpg', '/content/Final_dataset_elixir/val/akiec/ISIC_0061044.jpg', '/content/Final_dataset_elixir/val/akiec/ISIC_0055099.jpg', '/content/Final_dataset_elixir/val/akiec/ISIC_0024923.jpg', '/content/Final_dataset_elixir/val/akiec/ISIC_0055639.jpg', '/content/Final_dataset_elixir/val/akiec/ISIC_0064196.jpg', '/content/Final_dataset_elixir/val/akiec/ISIC_0059872.jpg', '/content/Final_dataset_elixir/val/akiec/ISIC_0068522.jpg', '/content/Final_dataset_elixir/val/akiec/ISIC_0031940.jpg', '/content/Final_dataset_elixir/val/akiec/ISIC_0067500.jpg', '/content/Final_dataset_elixir/val/akiec/ISIC_0031692.jpg', '/content/Final_dataset_elixir/val/akiec/ISIC_0065306.jpg', '/content/Final_dataset_elixir/val/akiec/ISIC_0063038.jpg', '/content/Final_dataset_elixir/val/akiec/ISIC_0066306.jpg', '/content/Final_dataset_elixir/val/akiec/ISIC_0057225.jpg', '/content/Final_dataset_elixir/val/akiec/ISIC_0027668.jpg', '/content/Final_dataset_elixir/val/akiec/ISIC_0053597.jpg', '/content/Final_dataset_elixir/val/akiec/ISIC_0026492.jpg', '/content/Final_dataset_elixir/val/akiec/ISIC_0026872.jpg', '/content/Final_dataset_elixir/val/akiec/ISIC_0031430.jpg', '/content/Final_dataset_elixir/val/akiec/ISIC_0025825.jpg', '/content/Final_dataset_elixir/val/akiec/ISIC_0064553.jpg', '/content/Final_dataset_elixir/val/akiec/ISIC_0058864.jpg', '/content/Final_dataset_elixir/val/akiec/ISIC_0024948.jpg', '/content/Final_dataset_elixir/val/akiec/ISIC_0027719.jpg', '/content/Final_dataset_elixir/val/akiec/ISIC_0062766.jpg', '/content/Final_dataset_elixir/val/akiec/ISIC_0029598.jpg', '/content/Final_dataset_elixir/val/akiec/ISIC_0029851.jpg', '/content/Final_dataset_elixir/val/akiec/ISIC_0059014.jpg', '/content/Final_dataset_elixir/val/akiec/ISIC_0026522.jpg', '/content/Final_dataset_elixir/val/akiec/ISIC_0031506.jpg', '/content/Final_dataset_elixir/val/akiec/ISIC_0061593.jpg', '/content/Final_dataset_elixir/val/vasc/ISIC_0054952.jpg', '/content/Final_dataset_elixir/val/vasc/ISIC_0027385.jpg', '/content/Final_dataset_elixir/val/vasc/ISIC_0061611.jpg', '/content/Final_dataset_elixir/val/vasc/ISIC_0071787.jpg', '/content/Final_dataset_elixir/val/vasc/ISIC_0030070.jpg', '/content/Final_dataset_elixir/val/vasc/ISIC_0058737.jpg', '/content/Final_dataset_elixir/val/vasc/ISIC_0064621.jpg', '/content/Final_dataset_elixir/val/vasc/ISIC_0067336.jpg', '/content/Final_dataset_elixir/val/vasc/ISIC_0061276.jpg', '/content/Final_dataset_elixir/val/vasc/ISIC_0053862.jpg', '/content/Final_dataset_elixir/val/vasc/ISIC_0031648.jpg', '/content/Final_dataset_elixir/val/vasc/ISIC_0067382.jpg', '/content/Final_dataset_elixir/val/bkl/ISIC_0027893.jpg', '/content/Final_dataset_elixir/val/bkl/ISIC_0031707.jpg', '/content/Final_dataset_elixir/val/bkl/ISIC_0034259.jpg', '/content/Final_dataset_elixir/val/bkl/ISIC_0025984.jpg', '/content/Final_dataset_elixir/val/bkl/ISIC_0026744.jpg', '/content/Final_dataset_elixir/val/bkl/ISIC_0024453.jpg', '/content/Final_dataset_elixir/val/bkl/ISIC_0028881.jpg', '/content/Final_dataset_elixir/val/bkl/ISIC_0027332.jpg', '/content/Final_dataset_elixir/val/bkl/ISIC_0062013.jpg', '/content/Final_dataset_elixir/val/bkl/ISIC_0033531.jpg', '/content/Final_dataset_elixir/val/bkl/ISIC_0058927.jpg', '/content/Final_dataset_elixir/val/bkl/ISIC_0059620.jpg', '/content/Final_dataset_elixir/val/bkl/ISIC_0057794.jpg', '/content/Final_dataset_elixir/val/bkl/ISIC_0032636.jpg', '/content/Final_dataset_elixir/val/bkl/ISIC_0032804.jpg', '/content/Final_dataset_elixir/val/bkl/ISIC_0060797.jpg', '/content/Final_dataset_elixir/val/bkl/ISIC_0027780.jpg', '/content/Final_dataset_elixir/val/bkl/ISIC_0029443.jpg', '/content/Final_dataset_elixir/val/bkl/ISIC_0033952.jpg', '/content/Final_dataset_elixir/val/bkl/ISIC_0026416.jpg', '/content/Final_dataset_elixir/val/bkl/ISIC_0001145.jpg', '/content/Final_dataset_elixir/val/bkl/ISIC_0031619.jpg', '/content/Final_dataset_elixir/val/bkl/ISIC_0033758.jpg', '/content/Final_dataset_elixir/val/bkl/ISIC_0059049.jpg', '/content/Final_dataset_elixir/val/bkl/ISIC_0031753.jpg', '/content/Final_dataset_elixir/val/bkl/ISIC_0029872.jpg', '/content/Final_dataset_elixir/val/bkl/ISIC_0055472.jpg', '/content/Final_dataset_elixir/val/bkl/ISIC_0030876.jpg', '/content/Final_dataset_elixir/val/bkl/ISIC_0028958.jpg', '/content/Final_dataset_elixir/val/bkl/ISIC_0031459.jpg', '/content/Final_dataset_elixir/val/bkl/ISIC_0057326.jpg', '/content/Final_dataset_elixir/val/bkl/ISIC_0056107.jpg', '/content/Final_dataset_elixir/val/bkl/ISIC_0056672.jpg', '/content/Final_dataset_elixir/val/bkl/ISIC_0033486.jpg', '/content/Final_dataset_elixir/val/bkl/ISIC_0060210.jpg', '/content/Final_dataset_elixir/val/bkl/ISIC_0061879.jpg', '/content/Final_dataset_elixir/val/bkl/ISIC_0026787.jpg', '/content/Final_dataset_elixir/val/bkl/ISIC_0025883.jpg', '/content/Final_dataset_elixir/val/bkl/ISIC_0058537.jpg', '/content/Final_dataset_elixir/val/bkl/ISIC_0055000.jpg', '/content/Final_dataset_elixir/val/bkl/ISIC_0054724.jpg', '/content/Final_dataset_elixir/val/bkl/ISIC_0014622.jpg', '/content/Final_dataset_elixir/val/bkl/ISIC_0058421.jpg', '/content/Final_dataset_elixir/val/bkl/ISIC_0014637.jpg', '/content/Final_dataset_elixir/val/bkl/ISIC_0025642.jpg', '/content/Final_dataset_elixir/val/bkl/ISIC_0026867.jpg', '/content/Final_dataset_elixir/val/bkl/ISIC_0059695.jpg', '/content/Final_dataset_elixir/val/bkl/ISIC_0057879.jpg', '/content/Final_dataset_elixir/val/bkl/ISIC_0026072.jpg', '/content/Final_dataset_elixir/val/bkl/ISIC_0029358.jpg', '/content/Final_dataset_elixir/val/bkl/ISIC_0058230.jpg', '/content/Final_dataset_elixir/val/bkl/ISIC_0027606.jpg', '/content/Final_dataset_elixir/val/bkl/ISIC_0030698.jpg', '/content/Final_dataset_elixir/val/bkl/ISIC_0031825.jpg', '/content/Final_dataset_elixir/val/bkl/ISIC_0032128.jpg', '/content/Final_dataset_elixir/val/bkl/ISIC_0056312.jpg', '/content/Final_dataset_elixir/val/bkl/ISIC_0062168.jpg', '/content/Final_dataset_elixir/val/bkl/ISIC_0027287.jpg', '/content/Final_dataset_elixir/val/bkl/ISIC_0029413.jpg', '/content/Final_dataset_elixir/val/bkl/ISIC_0028822.jpg', '/content/Final_dataset_elixir/val/bkl/ISIC_0032643.jpg', '/content/Final_dataset_elixir/val/bkl/ISIC_0027739.jpg', '/content/Final_dataset_elixir/val/bkl/ISIC_0033910.jpg', '/content/Final_dataset_elixir/val/bkl/ISIC_0059053.jpg', '/content/Final_dataset_elixir/val/bkl/ISIC_0014643.jpg', '/content/Final_dataset_elixir/val/bkl/ISIC_0059564.jpg', '/content/Final_dataset_elixir/val/bkl/ISIC_0060567.jpg', '/content/Final_dataset_elixir/val/bkl/ISIC_0014615.jpg', '/content/Final_dataset_elixir/val/bkl/ISIC_0033453.jpg', '/content/Final_dataset_elixir/val/bkl/ISIC_0025180.jpg', '/content/Final_dataset_elixir/val/bkl/ISIC_0057368.jpg', '/content/Final_dataset_elixir/val/bkl/ISIC_0033646.jpg', '/content/Final_dataset_elixir/val/bkl/ISIC_0034197.jpg', '/content/Final_dataset_elixir/val/bkl/ISIC_0060925.jpg', '/content/Final_dataset_elixir/val/bkl/ISIC_0033791.jpg', '/content/Final_dataset_elixir/val/bkl/ISIC_0030173.jpg', '/content/Final_dataset_elixir/val/bkl/ISIC_0026844.jpg', '/content/Final_dataset_elixir/val/bkl/ISIC_0033785.jpg', '/content/Final_dataset_elixir/val/bkl/ISIC_0056179.jpg', '/content/Final_dataset_elixir/val/bkl/ISIC_0031876.jpg', '/content/Final_dataset_elixir/val/bkl/ISIC_0030124.jpg', '/content/Final_dataset_elixir/val/bkl/ISIC_0060813.jpg', '/content/Final_dataset_elixir/val/bkl/ISIC_0014586.jpg', '/content/Final_dataset_elixir/val/bkl/ISIC_0027151.jpg', '/content/Final_dataset_elixir/val/bkl/ISIC_0025982.jpg', '/content/Final_dataset_elixir/val/bkl/ISIC_0031326.jpg', '/content/Final_dataset_elixir/val/bkl/ISIC_0026301.jpg', '/content/Final_dataset_elixir/val/bkl/ISIC_0029022.jpg', '/content/Final_dataset_elixir/val/bkl/ISIC_0057298.jpg', '/content/Final_dataset_elixir/val/bkl/ISIC_0058020.jpg', '/content/Final_dataset_elixir/val/bkl/ISIC_0031050.jpg', '/content/Final_dataset_elixir/val/df/ISIC_0054532.jpg', '/content/Final_dataset_elixir/val/df/ISIC_0027598.jpg', '/content/Final_dataset_elixir/val/df/ISIC_0066504.jpg', '/content/Final_dataset_elixir/val/df/ISIC_0028880.jpg', '/content/Final_dataset_elixir/val/df/ISIC_0025771.jpg', '/content/Final_dataset_elixir/val/df/ISIC_0032613.jpg', '/content/Final_dataset_elixir/val/df/ISIC_0072937.jpg', '/content/Final_dataset_elixir/val/df/ISIC_0026473.jpg', '/content/Final_dataset_elixir/val/df/ISIC_0064078.jpg', '/content/Final_dataset_elixir/val/df/ISIC_0032247.jpg', '/content/Final_dataset_elixir/val/df/ISIC_0064621.jpg', '/content/Final_dataset_elixir/val/df/ISIC_0067029.jpg', '/content/Final_dataset_elixir/val/df/ISIC_0034135.jpg', '/content/Final_dataset_elixir/val/df/ISIC_0061276.jpg', '/content/Final_dataset_elixir/val/df/ISIC_0027118.jpg', '/content/Final_dataset_elixir/val/df/ISIC_0072012.jpg', '/content/Final_dataset_elixir/val/df/ISIC_0056928.jpg', '/content/Final_dataset_elixir/val/df/ISIC_0053862.jpg']"
      ],
      "metadata": {
        "id": "uhSUi8gp_L0h"
      },
      "execution_count": null,
      "outputs": []
    },
    {
      "cell_type": "code",
      "source": [
        "ls1=['/content/Final_dataset_elixir/val/bcc/ISIC_0056205.jpg', '/content/Final_dataset_elixir/val/bcc/ISIC_0053599.jpg', '/content/Final_dataset_elixir/val/bcc/ISIC_0054436.jpg', '/content/Final_dataset_elixir/val/bcc/ISIC_0031762.jpg', '/content/Final_dataset_elixir/val/bcc/ISIC_0053649.jpg', '/content/Final_dataset_elixir/val/bcc/ISIC_0056206.jpg', '/content/Final_dataset_elixir/val/bcc/ISIC_0054993.jpg', '/content/Final_dataset_elixir/val/bcc/ISIC_0054370.jpg', '/content/Final_dataset_elixir/val/bcc/ISIC_0057090.jpg', '/content/Final_dataset_elixir/val/bcc/ISIC_0025600.jpg', '/content/Final_dataset_elixir/val/bcc/ISIC_0031236.jpg', '/content/Final_dataset_elixir/val/bcc/ISIC_0034119.jpg', '/content/Final_dataset_elixir/val/bcc/ISIC_0029745.jpg', '/content/Final_dataset_elixir/val/bcc/ISIC_0056810.jpg', '/content/Final_dataset_elixir/val/bcc/ISIC_0030644.jpg', '/content/Final_dataset_elixir/val/bcc/ISIC_0057308.jpg', '/content/Final_dataset_elixir/val/bcc/ISIC_0031527.jpg', '/content/Final_dataset_elixir/val/bcc/ISIC_0024332.jpg', '/content/Final_dataset_elixir/val/bcc/ISIC_0055274.jpg', '/content/Final_dataset_elixir/val/bcc/ISIC_0053928.jpg', '/content/Final_dataset_elixir/val/bcc/ISIC_0057474.jpg', '/content/Final_dataset_elixir/val/bcc/ISIC_0054299.jpg', '/content/Final_dataset_elixir/val/bcc/ISIC_0029515.jpg', '/content/Final_dataset_elixir/val/bcc/ISIC_0032061.jpg', '/content/Final_dataset_elixir/val/bcc/ISIC_0055539.jpg', '/content/Final_dataset_elixir/val/bcc/ISIC_0057915.jpg', '/content/Final_dataset_elixir/val/bcc/ISIC_0054820.jpg', '/content/Final_dataset_elixir/val/bcc/ISIC_0054477.jpg', '/content/Final_dataset_elixir/val/bcc/ISIC_0024431.jpg', '/content/Final_dataset_elixir/val/bcc/ISIC_0054202.jpg', '/content/Final_dataset_elixir/val/bcc/ISIC_0031442.jpg', '/content/Final_dataset_elixir/val/bcc/ISIC_0057266.jpg', '/content/Final_dataset_elixir/val/bcc/ISIC_0054722.jpg', '/content/Final_dataset_elixir/val/bcc/ISIC_0056297.jpg', '/content/Final_dataset_elixir/val/bcc/ISIC_0028168.jpg', '/content/Final_dataset_elixir/val/bcc/ISIC_0054413.jpg', '/content/Final_dataset_elixir/val/bcc/ISIC_0055806.jpg', '/content/Final_dataset_elixir/val/bcc/ISIC_0055890.jpg', '/content/Final_dataset_elixir/val/bcc/ISIC_0055758.jpg', '/content/Final_dataset_elixir/val/bcc/ISIC_0031597.jpg', '/content/Final_dataset_elixir/val/nv/ISIC_0024480.jpg', '/content/Final_dataset_elixir/val/nv/ISIC_0028222.jpg', '/content/Final_dataset_elixir/val/nv/ISIC_0032579.jpg', '/content/Final_dataset_elixir/val/nv/ISIC_0031483.jpg', '/content/Final_dataset_elixir/val/nv/ISIC_0032707.jpg', '/content/Final_dataset_elixir/val/nv/ISIC_0028447.jpg', '/content/Final_dataset_elixir/val/nv/ISIC_0026340.jpg', '/content/Final_dataset_elixir/val/nv/ISIC_0031363.jpg', '/content/Final_dataset_elixir/val/nv/ISIC_0034044.jpg', '/content/Final_dataset_elixir/val/nv/ISIC_0032555.jpg', '/content/Final_dataset_elixir/val/nv/ISIC_0034231.jpg', '/content/Final_dataset_elixir/val/nv/ISIC_0033788.jpg', '/content/Final_dataset_elixir/val/nv/ISIC_0027492.jpg', '/content/Final_dataset_elixir/val/nv/ISIC_0027077.jpg', '/content/Final_dataset_elixir/val/nv/ISIC_0032519.jpg', '/content/Final_dataset_elixir/val/nv/ISIC_0029679.jpg', '/content/Final_dataset_elixir/val/nv/ISIC_0025228.jpg', '/content/Final_dataset_elixir/val/nv/ISIC_0025938.jpg', '/content/Final_dataset_elixir/val/nv/ISIC_0034272.jpg', '/content/Final_dataset_elixir/val/nv/ISIC_0027147.jpg', '/content/Final_dataset_elixir/val/nv/ISIC_0027237.jpg', '/content/Final_dataset_elixir/val/nv/ISIC_0032191.jpg', '/content/Final_dataset_elixir/val/nv/ISIC_0032905.jpg', '/content/Final_dataset_elixir/val/nv/ISIC_0032470.jpg', '/content/Final_dataset_elixir/val/nv/ISIC_0034129.jpg', '/content/Final_dataset_elixir/val/mel/ISIC_0032095.jpg', '/content/Final_dataset_elixir/val/mel/ISIC_0025235.jpg', '/content/Final_dataset_elixir/val/mel/ISIC_0033603.jpg', '/content/Final_dataset_elixir/val/mel/ISIC_0057845.jpg', '/content/Final_dataset_elixir/val/mel/ISIC_0026558.jpg', '/content/Final_dataset_elixir/val/mel/ISIC_0032903.jpg', '/content/Final_dataset_elixir/val/mel/ISIC_0026996.jpg', '/content/Final_dataset_elixir/val/mel/ISIC_0034170.jpg', '/content/Final_dataset_elixir/val/mel/ISIC_0033893.jpg', '/content/Final_dataset_elixir/val/mel/ISIC_0032870.jpg', '/content/Final_dataset_elixir/val/mel/ISIC_0026963.jpg', '/content/Final_dataset_elixir/val/mel/ISIC_0033562.jpg', '/content/Final_dataset_elixir/val/mel/ISIC_0058298.jpg', '/content/Final_dataset_elixir/val/mel/ISIC_0000518.jpg', '/content/Final_dataset_elixir/val/mel/ISIC_0025303.jpg', '/content/Final_dataset_elixir/val/mel/ISIC_0054284.jpg', '/content/Final_dataset_elixir/val/mel/ISIC_0057417.jpg', '/content/Final_dataset_elixir/val/mel/ISIC_0026268.jpg', '/content/Final_dataset_elixir/val/mel/ISIC_0058135.jpg', '/content/Final_dataset_elixir/val/mel/ISIC_0025751.jpg', '/content/Final_dataset_elixir/val/mel/ISIC_0030818.jpg', '/content/Final_dataset_elixir/val/mel/ISIC_0028582.jpg', '/content/Final_dataset_elixir/val/mel/ISIC_0028215.jpg', '/content/Final_dataset_elixir/val/mel/ISIC_0024898.jpg', '/content/Final_dataset_elixir/val/mel/ISIC_0033820.jpg', '/content/Final_dataset_elixir/val/mel/ISIC_0033424.jpg', '/content/Final_dataset_elixir/val/mel/ISIC_0032653.jpg', '/content/Final_dataset_elixir/val/mel/ISIC_0033368.jpg', '/content/Final_dataset_elixir/val/mel/ISIC_0053492.jpg', '/content/Final_dataset_elixir/val/mel/ISIC_0056799.jpg', '/content/Final_dataset_elixir/val/mel/ISIC_0057545.jpg', '/content/Final_dataset_elixir/val/mel/ISIC_0000162.jpg', '/content/Final_dataset_elixir/val/mel/ISIC_0000553.jpg', '/content/Final_dataset_elixir/val/mel/ISIC_0053740.jpg', '/content/Final_dataset_elixir/val/mel/ISIC_0034294.jpg', '/content/Final_dataset_elixir/val/mel/ISIC_0054465.jpg', '/content/Final_dataset_elixir/val/mel/ISIC_0029209.jpg', '/content/Final_dataset_elixir/val/mel/ISIC_0033415.jpg', '/content/Final_dataset_elixir/val/mel/ISIC_0000516.jpg', '/content/Final_dataset_elixir/val/mel/ISIC_0028898.jpg', '/content/Final_dataset_elixir/val/mel/ISIC_0033317.jpg', '/content/Final_dataset_elixir/val/mel/ISIC_0027663.jpg', '/content/Final_dataset_elixir/val/mel/ISIC_0032960.jpg', '/content/Final_dataset_elixir/val/mel/ISIC_0033180.jpg', '/content/Final_dataset_elixir/val/mel/ISIC_0034050.jpg', '/content/Final_dataset_elixir/val/mel/ISIC_0026770.jpg', '/content/Final_dataset_elixir/val/mel/ISIC_0032988.jpg', '/content/Final_dataset_elixir/val/mel/ISIC_0032722.jpg', '/content/Final_dataset_elixir/val/mel/ISIC_0032070.jpg', '/content/Final_dataset_elixir/val/mel/ISIC_0033081.jpg', '/content/Final_dataset_elixir/val/mel/ISIC_0033175.jpg', '/content/Final_dataset_elixir/val/mel/ISIC_0024647.jpg', '/content/Final_dataset_elixir/val/mel/ISIC_0034068.jpg', '/content/Final_dataset_elixir/val/mel/ISIC_0053839.jpg', '/content/Final_dataset_elixir/val/mel/ISIC_0034012.jpg', '/content/Final_dataset_elixir/val/mel/ISIC_0032187.jpg', '/content/Final_dataset_elixir/val/mel/ISIC_0031741.jpg', '/content/Final_dataset_elixir/val/mel/ISIC_0000139.jpg', '/content/Final_dataset_elixir/val/mel/ISIC_0025035.jpg', '/content/Final_dataset_elixir/val/mel/ISIC_0026266.jpg', '/content/Final_dataset_elixir/val/mel/ISIC_0055859.jpg', '/content/Final_dataset_elixir/val/mel/ISIC_0028460.jpg', '/content/Final_dataset_elixir/val/mel/ISIC_0028065.jpg', '/content/Final_dataset_elixir/val/mel/ISIC_0033120.jpg', '/content/Final_dataset_elixir/val/mel/ISIC_0055665.jpg', '/content/Final_dataset_elixir/val/mel/ISIC_0032149.jpg', '/content/Final_dataset_elixir/val/mel/ISIC_0027387.jpg', '/content/Final_dataset_elixir/val/mel/ISIC_0033594.jpg', '/content/Final_dataset_elixir/val/mel/ISIC_0028227.jpg', '/content/Final_dataset_elixir/val/mel/ISIC_0033387.jpg', '/content/Final_dataset_elixir/val/mel/ISIC_0054302.jpg', '/content/Final_dataset_elixir/val/mel/ISIC_0028285.jpg', '/content/Final_dataset_elixir/val/mel/ISIC_0030047.jpg', '/content/Final_dataset_elixir/val/mel/ISIC_0032396.jpg', '/content/Final_dataset_elixir/val/mel/ISIC_0055720.jpg', '/content/Final_dataset_elixir/val/mel/ISIC_0001151.jpg', '/content/Final_dataset_elixir/val/mel/ISIC_0033017.jpg', '/content/Final_dataset_elixir/val/mel/ISIC_0053981.jpg', '/content/Final_dataset_elixir/val/mel/ISIC_0026774.jpg', '/content/Final_dataset_elixir/val/mel/ISIC_0057870.jpg', '/content/Final_dataset_elixir/val/mel/ISIC_0055742.jpg', '/content/Final_dataset_elixir/val/mel/ISIC_0034064.jpg', '/content/Final_dataset_elixir/val/mel/ISIC_0025744.jpg', '/content/Final_dataset_elixir/val/mel/ISIC_0028481.jpg', '/content/Final_dataset_elixir/val/mel/ISIC_0053473.jpg', '/content/Final_dataset_elixir/val/mel/ISIC_0001157.jpg', '/content/Final_dataset_elixir/val/mel/ISIC_0053796.jpg', '/content/Final_dataset_elixir/val/mel/ISIC_0054062.jpg', '/content/Final_dataset_elixir/val/mel/ISIC_0027260.jpg', '/content/Final_dataset_elixir/val/mel/ISIC_0054520.jpg', '/content/Final_dataset_elixir/val/mel/ISIC_0032982.jpg', '/content/Final_dataset_elixir/val/akiec/ISIC_0062586.jpg', '/content/Final_dataset_elixir/val/akiec/ISIC_0026549.jpg', '/content/Final_dataset_elixir/val/akiec/ISIC_0026848.jpg', '/content/Final_dataset_elixir/val/akiec/ISIC_0029067.jpg', '/content/Final_dataset_elixir/val/akiec/ISIC_0053892.jpg', '/content/Final_dataset_elixir/val/akiec/ISIC_0066056.jpg', '/content/Final_dataset_elixir/val/akiec/ISIC_0029279.jpg', '/content/Final_dataset_elixir/val/akiec/ISIC_0055977.jpg', '/content/Final_dataset_elixir/val/akiec/ISIC_0060230.jpg', '/content/Final_dataset_elixir/val/akiec/ISIC_0067728.jpg', '/content/Final_dataset_elixir/val/akiec/ISIC_0029715.jpg', '/content/Final_dataset_elixir/val/akiec/ISIC_0029141.jpg', '/content/Final_dataset_elixir/val/akiec/ISIC_0058653.jpg', '/content/Final_dataset_elixir/val/akiec/ISIC_0027303.jpg', '/content/Final_dataset_elixir/val/akiec/ISIC_0063320.jpg', '/content/Final_dataset_elixir/val/akiec/ISIC_0026319.jpg', '/content/Final_dataset_elixir/val/akiec/ISIC_0063573.jpg', '/content/Final_dataset_elixir/val/akiec/ISIC_0065495.jpg', '/content/Final_dataset_elixir/val/akiec/ISIC_0061044.jpg', '/content/Final_dataset_elixir/val/akiec/ISIC_0055099.jpg', '/content/Final_dataset_elixir/val/akiec/ISIC_0024923.jpg', '/content/Final_dataset_elixir/val/akiec/ISIC_0055639.jpg', '/content/Final_dataset_elixir/val/akiec/ISIC_0064196.jpg', '/content/Final_dataset_elixir/val/akiec/ISIC_0059872.jpg', '/content/Final_dataset_elixir/val/akiec/ISIC_0068522.jpg', '/content/Final_dataset_elixir/val/akiec/ISIC_0031940.jpg', '/content/Final_dataset_elixir/val/akiec/ISIC_0067500.jpg', '/content/Final_dataset_elixir/val/akiec/ISIC_0031692.jpg', '/content/Final_dataset_elixir/val/akiec/ISIC_0065306.jpg', '/content/Final_dataset_elixir/val/akiec/ISIC_0063038.jpg', '/content/Final_dataset_elixir/val/akiec/ISIC_0066306.jpg', '/content/Final_dataset_elixir/val/akiec/ISIC_0057225.jpg', '/content/Final_dataset_elixir/val/akiec/ISIC_0027668.jpg', '/content/Final_dataset_elixir/val/akiec/ISIC_0053597.jpg', '/content/Final_dataset_elixir/val/akiec/ISIC_0026492.jpg', '/content/Final_dataset_elixir/val/akiec/ISIC_0026872.jpg', '/content/Final_dataset_elixir/val/akiec/ISIC_0031430.jpg', '/content/Final_dataset_elixir/val/akiec/ISIC_0025825.jpg', '/content/Final_dataset_elixir/val/akiec/ISIC_0064553.jpg', '/content/Final_dataset_elixir/val/akiec/ISIC_0058864.jpg', '/content/Final_dataset_elixir/val/akiec/ISIC_0024948.jpg', '/content/Final_dataset_elixir/val/akiec/ISIC_0027719.jpg', '/content/Final_dataset_elixir/val/akiec/ISIC_0062766.jpg', '/content/Final_dataset_elixir/val/akiec/ISIC_0029598.jpg', '/content/Final_dataset_elixir/val/akiec/ISIC_0029851.jpg', '/content/Final_dataset_elixir/val/akiec/ISIC_0059014.jpg', '/content/Final_dataset_elixir/val/akiec/ISIC_0026522.jpg', '/content/Final_dataset_elixir/val/akiec/ISIC_0031506.jpg', '/content/Final_dataset_elixir/val/akiec/ISIC_0061593.jpg', '/content/Final_dataset_elixir/val/vasc/ISIC_0054952.jpg', '/content/Final_dataset_elixir/val/vasc/ISIC_0027385.jpg', '/content/Final_dataset_elixir/val/vasc/ISIC_0061611.jpg', '/content/Final_dataset_elixir/val/vasc/ISIC_0071787.jpg', '/content/Final_dataset_elixir/val/vasc/ISIC_0030070.jpg', '/content/Final_dataset_elixir/val/vasc/ISIC_0058737.jpg', '/content/Final_dataset_elixir/val/vasc/ISIC_0064621.jpg', '/content/Final_dataset_elixir/val/vasc/ISIC_0067336.jpg', '/content/Final_dataset_elixir/val/vasc/ISIC_0061276.jpg', '/content/Final_dataset_elixir/val/vasc/ISIC_0053862.jpg', '/content/Final_dataset_elixir/val/vasc/ISIC_0031648.jpg', '/content/Final_dataset_elixir/val/vasc/ISIC_0067382.jpg', '/content/Final_dataset_elixir/val/bkl/ISIC_0027893.jpg', '/content/Final_dataset_elixir/val/bkl/ISIC_0031707.jpg', '/content/Final_dataset_elixir/val/bkl/ISIC_0034259.jpg', '/content/Final_dataset_elixir/val/bkl/ISIC_0025984.jpg', '/content/Final_dataset_elixir/val/bkl/ISIC_0026744.jpg', '/content/Final_dataset_elixir/val/bkl/ISIC_0024453.jpg', '/content/Final_dataset_elixir/val/bkl/ISIC_0028881.jpg', '/content/Final_dataset_elixir/val/bkl/ISIC_0027332.jpg', '/content/Final_dataset_elixir/val/bkl/ISIC_0062013.jpg', '/content/Final_dataset_elixir/val/bkl/ISIC_0033531.jpg', '/content/Final_dataset_elixir/val/bkl/ISIC_0058927.jpg', '/content/Final_dataset_elixir/val/bkl/ISIC_0059620.jpg', '/content/Final_dataset_elixir/val/bkl/ISIC_0057794.jpg', '/content/Final_dataset_elixir/val/bkl/ISIC_0032636.jpg', '/content/Final_dataset_elixir/val/bkl/ISIC_0032804.jpg', '/content/Final_dataset_elixir/val/bkl/ISIC_0060797.jpg', '/content/Final_dataset_elixir/val/bkl/ISIC_0027780.jpg', '/content/Final_dataset_elixir/val/bkl/ISIC_0029443.jpg', '/content/Final_dataset_elixir/val/bkl/ISIC_0033952.jpg', '/content/Final_dataset_elixir/val/bkl/ISIC_0026416.jpg', '/content/Final_dataset_elixir/val/bkl/ISIC_0001145.jpg', '/content/Final_dataset_elixir/val/bkl/ISIC_0031619.jpg', '/content/Final_dataset_elixir/val/bkl/ISIC_0033758.jpg', '/content/Final_dataset_elixir/val/bkl/ISIC_0059049.jpg', '/content/Final_dataset_elixir/val/bkl/ISIC_0031753.jpg', '/content/Final_dataset_elixir/val/bkl/ISIC_0029872.jpg', '/content/Final_dataset_elixir/val/bkl/ISIC_0055472.jpg', '/content/Final_dataset_elixir/val/bkl/ISIC_0030876.jpg', '/content/Final_dataset_elixir/val/bkl/ISIC_0028958.jpg', '/content/Final_dataset_elixir/val/bkl/ISIC_0031459.jpg', '/content/Final_dataset_elixir/val/bkl/ISIC_0057326.jpg', '/content/Final_dataset_elixir/val/bkl/ISIC_0056107.jpg', '/content/Final_dataset_elixir/val/bkl/ISIC_0056672.jpg', '/content/Final_dataset_elixir/val/bkl/ISIC_0033486.jpg', '/content/Final_dataset_elixir/val/bkl/ISIC_0060210.jpg', '/content/Final_dataset_elixir/val/bkl/ISIC_0061879.jpg', '/content/Final_dataset_elixir/val/bkl/ISIC_0026787.jpg', '/content/Final_dataset_elixir/val/bkl/ISIC_0025883.jpg', '/content/Final_dataset_elixir/val/bkl/ISIC_0058537.jpg', '/content/Final_dataset_elixir/val/bkl/ISIC_0055000.jpg', '/content/Final_dataset_elixir/val/bkl/ISIC_0054724.jpg', '/content/Final_dataset_elixir/val/bkl/ISIC_0014622.jpg', '/content/Final_dataset_elixir/val/bkl/ISIC_0058421.jpg', '/content/Final_dataset_elixir/val/bkl/ISIC_0014637.jpg', '/content/Final_dataset_elixir/val/bkl/ISIC_0025642.jpg', '/content/Final_dataset_elixir/val/bkl/ISIC_0026867.jpg', '/content/Final_dataset_elixir/val/bkl/ISIC_0059695.jpg', '/content/Final_dataset_elixir/val/bkl/ISIC_0057879.jpg', '/content/Final_dataset_elixir/val/bkl/ISIC_0026072.jpg', '/content/Final_dataset_elixir/val/bkl/ISIC_0029358.jpg', '/content/Final_dataset_elixir/val/bkl/ISIC_0058230.jpg', '/content/Final_dataset_elixir/val/bkl/ISIC_0027606.jpg', '/content/Final_dataset_elixir/val/bkl/ISIC_0030698.jpg', '/content/Final_dataset_elixir/val/bkl/ISIC_0031825.jpg', '/content/Final_dataset_elixir/val/bkl/ISIC_0032128.jpg', '/content/Final_dataset_elixir/val/bkl/ISIC_0056312.jpg', '/content/Final_dataset_elixir/val/bkl/ISIC_0062168.jpg', '/content/Final_dataset_elixir/val/bkl/ISIC_0027287.jpg', '/content/Final_dataset_elixir/val/bkl/ISIC_0029413.jpg', '/content/Final_dataset_elixir/val/bkl/ISIC_0028822.jpg', '/content/Final_dataset_elixir/val/bkl/ISIC_0032643.jpg', '/content/Final_dataset_elixir/val/bkl/ISIC_0027739.jpg', '/content/Final_dataset_elixir/val/bkl/ISIC_0033910.jpg', '/content/Final_dataset_elixir/val/bkl/ISIC_0059053.jpg', '/content/Final_dataset_elixir/val/bkl/ISIC_0014643.jpg', '/content/Final_dataset_elixir/val/bkl/ISIC_0059564.jpg', '/content/Final_dataset_elixir/val/bkl/ISIC_0060567.jpg', '/content/Final_dataset_elixir/val/bkl/ISIC_0014615.jpg', '/content/Final_dataset_elixir/val/bkl/ISIC_0033453.jpg', '/content/Final_dataset_elixir/val/bkl/ISIC_0025180.jpg', '/content/Final_dataset_elixir/val/bkl/ISIC_0057368.jpg', '/content/Final_dataset_elixir/val/bkl/ISIC_0033646.jpg', '/content/Final_dataset_elixir/val/bkl/ISIC_0034197.jpg', '/content/Final_dataset_elixir/val/bkl/ISIC_0060925.jpg', '/content/Final_dataset_elixir/val/bkl/ISIC_0033791.jpg', '/content/Final_dataset_elixir/val/bkl/ISIC_0030173.jpg', '/content/Final_dataset_elixir/val/bkl/ISIC_0026844.jpg', '/content/Final_dataset_elixir/val/bkl/ISIC_0033785.jpg', '/content/Final_dataset_elixir/val/bkl/ISIC_0056179.jpg', '/content/Final_dataset_elixir/val/df/ISIC_0034135.jpg', '/content/Final_dataset_elixir/val/df/ISIC_0061276.jpg', '/content/Final_dataset_elixir/val/df/ISIC_0027118.jpg', '/content/Final_dataset_elixir/val/df/ISIC_0072012.jpg', '/content/Final_dataset_elixir/val/df/ISIC_0056928.jpg', '/content/Final_dataset_elixir/val/df/ISIC_0053862.jpg']"
      ],
      "metadata": {
        "id": "3WtJ5gZiAPIc"
      },
      "execution_count": null,
      "outputs": []
    },
    {
      "cell_type": "code",
      "source": [
        "l= ['/content/Final_dataset_elixir/val/vasc/ISIC_0031346.jpg', '/content/Final_dataset_elixir/val/vasc/ISIC_0032692.jpg', '/content/Final_dataset_elixir/val/vasc/ISIC_0031955.jpg', '/content/Final_dataset_elixir/val/bkl/ISIC_0028503.jpg', '/content/Final_dataset_elixir/val/bkl/ISIC_0032124.jpg', '/content/Final_dataset_elixir/val/bkl/ISIC_0060361.jpg', '/content/Final_dataset_elixir/val/bkl/ISIC_0024426.jpg', '/content/Final_dataset_elixir/val/bkl/ISIC_0033913.jpg', '/content/Final_dataset_elixir/val/bkl/ISIC_0060217.jpg', '/content/Final_dataset_elixir/val/bkl/ISIC_0029880.jpg', '/content/Final_dataset_elixir/val/bkl/ISIC_0033156.jpg', '/content/Final_dataset_elixir/val/bkl/ISIC_0031897.jpg', '/content/Final_dataset_elixir/val/bkl/ISIC_0029213.jpg', '/content/Final_dataset_elixir/val/bkl/ISIC_0029161.jpg', '/content/Final_dataset_elixir/val/bkl/ISIC_0056622.jpg', '/content/Final_dataset_elixir/val/bkl/ISIC_0032382.jpg', '/content/Final_dataset_elixir/val/bcc/ISIC_0057010.jpg', '/content/Final_dataset_elixir/val/bcc/ISIC_0027120.jpg', '/content/Final_dataset_elixir/val/bcc/ISIC_0055958.jpg', '/content/Final_dataset_elixir/val/bcc/ISIC_0055303.jpg', '/content/Final_dataset_elixir/val/bcc/ISIC_0025601.jpg', '/content/Final_dataset_elixir/val/bcc/ISIC_0054524.jpg', '/content/Final_dataset_elixir/val/bcc/ISIC_0029917.jpg', '/content/Final_dataset_elixir/val/bcc/ISIC_0031824.jpg', '/content/Final_dataset_elixir/val/bcc/ISIC_0055529.jpg', '/content/Final_dataset_elixir/val/bcc/ISIC_0026343.jpg', '/content/Final_dataset_elixir/val/bcc/ISIC_0054344.jpg', '/content/Final_dataset_elixir/val/bcc/ISIC_0055206.jpg', '/content/Final_dataset_elixir/val/nv/ISIC_0027045.jpg', '/content/Final_dataset_elixir/val/nv/ISIC_0028600.jpg', '/content/Final_dataset_elixir/val/nv/ISIC_0033008.jpg', '/content/Final_dataset_elixir/val/nv/ISIC_0026037.jpg', '/content/Final_dataset_elixir/val/nv/ISIC_0025633.jpg', '/content/Final_dataset_elixir/val/nv/ISIC_0033015.jpg', '/content/Final_dataset_elixir/val/nv/ISIC_0027569.jpg', '/content/Final_dataset_elixir/val/nv/ISIC_0028170.jpg', '/content/Final_dataset_elixir/val/nv/ISIC_0034229.jpg', '/content/Final_dataset_elixir/val/nv/ISIC_0025257.jpg', '/content/Final_dataset_elixir/val/akiec/ISIC_0067150.jpg', '/content/Final_dataset_elixir/val/akiec/ISIC_0063588.jpg', '/content/Final_dataset_elixir/val/akiec/ISIC_0055273.jpg', '/content/Final_dataset_elixir/val/akiec/ISIC_0068232.jpg', '/content/Final_dataset_elixir/val/akiec/ISIC_0058494.jpg', '/content/Final_dataset_elixir/val/akiec/ISIC_0028314.jpg', '/content/Final_dataset_elixir/val/akiec/ISIC_0066391.jpg', '/content/Final_dataset_elixir/val/akiec/ISIC_0032329.jpg', '/content/Final_dataset_elixir/val/akiec/ISIC_0058884.jpg']"
      ],
      "metadata": {
        "id": "IzxzUPXKPCXN"
      },
      "execution_count": null,
      "outputs": []
    },
    {
      "cell_type": "code",
      "source": [
        "len(ls)"
      ],
      "metadata": {
        "colab": {
          "base_uri": "https://localhost:8080/"
        },
        "id": "XMlvsT7vASgv",
        "outputId": "0aae6530-42fc-4955-a1a4-a839c3dfb06e"
      },
      "execution_count": null,
      "outputs": [
        {
          "output_type": "execute_result",
          "data": {
            "text/plain": [
              "346"
            ]
          },
          "metadata": {},
          "execution_count": 11
        }
      ]
    },
    {
      "cell_type": "code",
      "source": [
        "for i in l:\n",
        "  os.remove(i)"
      ],
      "metadata": {
        "id": "pJbF5As5Ayec"
      },
      "execution_count": null,
      "outputs": []
    },
    {
      "cell_type": "code",
      "execution_count": null,
      "metadata": {
        "id": "ZWfM5OSxwzF4"
      },
      "outputs": [],
      "source": [
        "#Read csv and prediction\n",
        "df1 = pd.read_csv('/content/ground_truth.csv')\n",
        "df2= pd.read_csv('/content/output.csv')\n",
        "test_labels = df1['Label'].to_numpy()\n",
        "predicted_labels = df2['Label'].to_numpy()"
      ]
    },
    {
      "cell_type": "code",
      "execution_count": null,
      "metadata": {
        "colab": {
          "base_uri": "https://localhost:8080/"
        },
        "id": "1yLSePqnjdRC",
        "outputId": "3462f304-93b9-44a5-913f-1df46dc187fc"
      },
      "outputs": [
        {
          "output_type": "stream",
          "name": "stdout",
          "text": [
            "Majority voting test accuracy 0.9211356466876972\n"
          ]
        }
      ],
      "source": [
        "#Majority voting test accuracy\n",
        "from sklearn.metrics import accuracy_score\n",
        "df1 = pd.read_csv('/content/ground_truth.csv')\n",
        "df2= pd.read_csv('/content/output.csv')\n",
        "test_labels = df1['Label'].to_numpy()\n",
        "predicted_labels = df2['Label'].to_numpy()\n",
        "print(f'Majority voting test accuracy {accuracy_score(test_labels,predicted_labels):}')"
      ]
    },
    {
      "cell_type": "code",
      "source": [
        "from sklearn.metrics import accuracy_score, precision_score, recall_score, f1_score, confusion_matrix\n",
        "import pandas as pd\n",
        "\n",
        "# Load ground truth and predicted labels\n",
        "df1 = pd.read_csv('/content/ground_truth.csv')\n",
        "df2 = pd.read_csv('/content/output.csv')\n",
        "\n",
        "test_labels = df1['Label'].to_numpy()\n",
        "predicted_labels = df2['Label'].to_numpy()\n",
        "\n",
        "# Calculate metrics\n",
        "accuracy = accuracy_score(test_labels, predicted_labels)\n",
        "precision = precision_score(test_labels, predicted_labels, average='macro')\n",
        "recall = recall_score(test_labels, predicted_labels, average='macro')\n",
        "f1 = f1_score(test_labels, predicted_labels, average='macro')\n",
        "conf_matrix = confusion_matrix(test_labels, predicted_labels)\n",
        "\n",
        "print(f'Accuracy: {accuracy}')\n",
        "print(f'Precision: {precision}')\n",
        "print(f'Recall: {recall}')\n",
        "print(f'F1 Score: {f1}')\n",
        "print('Confusion Matrix:')\n",
        "print(conf_matrix)"
      ],
      "metadata": {
        "colab": {
          "base_uri": "https://localhost:8080/"
        },
        "id": "c5u3ETiTYaqU",
        "outputId": "bcfc5c43-a1ec-4e6a-bc87-99a732019a68"
      },
      "execution_count": null,
      "outputs": [
        {
          "output_type": "stream",
          "name": "stdout",
          "text": [
            "Accuracy: 0.9211356466876972\n",
            "Precision: 0.8980312068601888\n",
            "Recall: 0.8597342884552549\n",
            "F1 Score: 0.8759461591891322\n",
            "Confusion Matrix:\n",
            "[[ 27   2   5   0   1   0   1   0]\n",
            " [  1  53   2   0   1   0   2   0]\n",
            " [  4   2  53   0   3   0   5   0]\n",
            " [  0   1   0   4   0   0   0   0]\n",
            " [  1   0  13   0  83   0  14   0]\n",
            " [  0   0   0   0   0  43   0   0]\n",
            " [  1   0   7   0   8   0 602   0]\n",
            " [  0   1   0   0   0   0   0  11]]\n"
          ]
        }
      ]
    }
  ],
  "metadata": {
    "colab": {
      "provenance": []
    },
    "kernelspec": {
      "display_name": "Python 3",
      "name": "python3"
    },
    "language_info": {
      "name": "python"
    }
  },
  "nbformat": 4,
  "nbformat_minor": 0
}
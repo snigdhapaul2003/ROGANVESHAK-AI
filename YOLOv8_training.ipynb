{
  "cells": [
    {
      "cell_type": "code",
      "execution_count": null,
      "metadata": {
        "id": "zNXfP3T7j0xW"
      },
      "outputs": [],
      "source": [
        "!nvidia-smi"
      ]
    },
    {
      "cell_type": "code",
      "execution_count": null,
      "metadata": {
        "id": "1ykvgbTdkBa_"
      },
      "outputs": [],
      "source": [
        "import os\n",
        "HOME = os.getcwd()\n",
        "print(HOME)"
      ]
    },
    {
      "cell_type": "code",
      "execution_count": null,
      "metadata": {
        "id": "jvTrI5kukHAJ"
      },
      "outputs": [],
      "source": [
        "# Pip install method (recommended)\n",
        "\n",
        "!pip install ultralytics\n",
        "\n",
        "from IPython import display\n",
        "display.clear_output()\n",
        "\n",
        "import ultralytics\n",
        "ultralytics.checks()"
      ]
    },
    {
      "cell_type": "code",
      "execution_count": null,
      "metadata": {
        "id": "skCF6YeikJNF"
      },
      "outputs": [],
      "source": [
        "#Import yolo from ultralytics\n",
        "from ultralytics import YOLO\n",
        "\n",
        "from IPython.display import display, Image"
      ]
    },
    {
      "cell_type": "code",
      "execution_count": null,
      "metadata": {
        "id": "nnWLTKe0kcMb"
      },
      "outputs": [],
      "source": [
        "#Connect to drive\n",
        "from google.colab import drive\n",
        "drive.mount('/content/drive')"
      ]
    },
    {
      "cell_type": "code",
      "execution_count": null,
      "metadata": {
        "id": "8emOrYVHlA5C"
      },
      "outputs": [],
      "source": [
        "#Prediction\n",
        "%cd {HOME}\n",
        "\n",
        "!yolo task=classify mode=train model=yolov8n-cls.pt data=\"/content/dataset/Final_dataset_elixir\" epochs=50 imgsz=128"
      ]
    },
    {
      "cell_type": "code",
      "execution_count": null,
      "metadata": {
        "id": "5cBmG5BClDtQ"
      },
      "outputs": [],
      "source": [
        "!ls -la {HOME}/runs/classify/train/"
      ]
    },
    {
      "cell_type": "code",
      "execution_count": null,
      "metadata": {
        "id": "Jsm0EwbglM6T"
      },
      "outputs": [],
      "source": [
        "#Train the model\n",
        "!yolo task=classify mode=predict model=/content/best.pt conf=0.25 source=/content/ISIC_0054881.jpg"
      ]
    },
    {
      "cell_type": "code",
      "execution_count": null,
      "metadata": {
        "id": "t2_9ZDX4lPdq"
      },
      "outputs": [],
      "source": [
        "#Custom model prediction using python sdk\n",
        "import ultralytics\n",
        "from ultralytics import YOLO\n",
        "model = YOLO('/content/best.pt')\n",
        "results = model(\"/content/ISIC_0054881.jpg\")\n",
        "print(results[0].names[results[0].probs.top1])\n",
        "x=results[0].probs.top5\n",
        "y=results[0].probs.top5conf.tolist()\n",
        "k=[]\n",
        "for i in range(7):\n",
        "    if i in x:\n",
        "        y_index = x.index(i)\n",
        "        y_value = y[y_index]\n",
        "        k.append(y_value)\n",
        "    else:\n",
        "        k.append(0)\n",
        "print(x)\n",
        "print(k)"
      ]
    }
  ],
  "metadata": {
    "colab": {
      "provenance": []
    },
    "kernelspec": {
      "display_name": "Python 3",
      "name": "python3"
    },
    "language_info": {
      "name": "python"
    }
  },
  "nbformat": 4,
  "nbformat_minor": 0
}
